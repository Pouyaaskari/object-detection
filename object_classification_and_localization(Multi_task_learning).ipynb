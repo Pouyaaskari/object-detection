{
  "nbformat": 4,
  "nbformat_minor": 0,
  "metadata": {
    "colab": {
      "name": "object-classification-and-localization(Multi task learning).ipynb",
      "provenance": [],
      "authorship_tag": "ABX9TyNlkmmfUF0G3VyPUUSYLKe3",
      "include_colab_link": true
    },
    "kernelspec": {
      "name": "python3",
      "display_name": "Python 3"
    },
    "language_info": {
      "name": "python"
    },
    "accelerator": "GPU"
  },
  "cells": [
    {
      "cell_type": "markdown",
      "metadata": {
        "id": "view-in-github",
        "colab_type": "text"
      },
      "source": [
        "<a href=\"https://colab.research.google.com/github/Pouyaaskari/object-detection/blob/master/object_classification_and_localization(Multi_task_learning).ipynb\" target=\"_parent\"><img src=\"https://colab.research.google.com/assets/colab-badge.svg\" alt=\"Open In Colab\"/></a>"
      ]
    },
    {
      "cell_type": "code",
      "metadata": {
        "colab": {
          "base_uri": "https://localhost:8080/"
        },
        "id": "l7XOPV2c8LVZ",
        "outputId": "ce84d850-09b3-42d1-988d-570c5665a921"
      },
      "source": [
        "!git clone https://github.com/Alireza-Akhavan/object-detection-notebooks.git"
      ],
      "execution_count": 1,
      "outputs": [
        {
          "output_type": "stream",
          "text": [
            "Cloning into 'object-detection-notebooks'...\n",
            "remote: Enumerating objects: 2083, done.\u001b[K\n",
            "remote: Counting objects: 100% (2083/2083), done.\u001b[K\n",
            "remote: Compressing objects: 100% (2078/2078), done.\u001b[K\n",
            "remote: Total 2083 (delta 9), reused 2069 (delta 2), pack-reused 0\u001b[K\n",
            "Receiving objects: 100% (2083/2083), 26.78 MiB | 36.71 MiB/s, done.\n",
            "Resolving deltas: 100% (9/9), done.\n"
          ],
          "name": "stdout"
        }
      ]
    },
    {
      "cell_type": "code",
      "metadata": {
        "id": "uJPk-T9Q-UPA"
      },
      "source": [
        "from tensorflow.keras.applications import VGG16\n",
        "from tensorflow.keras.layers import Flatten\n",
        "from tensorflow.keras.layers import Dropout\n",
        "from tensorflow.keras.layers import Dense\n",
        "from tensorflow.keras.layers import Input\n",
        "from tensorflow.keras.models import Model\n",
        "from tensorflow.keras.optimizers import Adam\n",
        "from tensorflow.keras.preprocessing.image import img_to_array\n",
        "from tensorflow.keras.preprocessing.image import load_img\n",
        "from tensorflow.keras.utils import to_categorical\n",
        "from sklearn.preprocessing import LabelBinarizer\n",
        "from sklearn.model_selection import train_test_split\n",
        "import matplotlib.pyplot as plt\n",
        "import numpy as np\n",
        "import pickle\n",
        "import cv2\n",
        "import os\n",
        "%matplotlib inline"
      ],
      "execution_count": 2,
      "outputs": []
    },
    {
      "cell_type": "code",
      "metadata": {
        "id": "YBUCcWfl-spk"
      },
      "source": [
        "BASE_PATH = \"/content/object-detection-notebooks/dataset2\"\n",
        "IMAGES_PATH = os.path.sep.join([BASE_PATH, \"images\"])\n",
        "ANNOTS_PATH = os.path.sep.join([BASE_PATH, \"annotations\"])"
      ],
      "execution_count": 3,
      "outputs": []
    },
    {
      "cell_type": "code",
      "metadata": {
        "id": "UlLg57JW_N9L"
      },
      "source": [
        "data = []\n",
        "labels = []\n",
        "bboxes = []\n",
        "imagePaths = []"
      ],
      "execution_count": 5,
      "outputs": []
    },
    {
      "cell_type": "code",
      "metadata": {
        "colab": {
          "base_uri": "https://localhost:8080/"
        },
        "id": "rLcqkHKh_UuY",
        "outputId": "669e54ef-62e7-4cd2-a424-d501acea96cf"
      },
      "source": [
        "csvPaths = []\n",
        "for (rootDir, dirNames, filenames) in os.walk(ANNOTS_PATH):\n",
        "    # loop over the filenames in the current directory\n",
        "    for filename in filenames:\n",
        "        # determine the file extension of the current file\n",
        "        ext = filename[filename.rfind(\".\"):].lower()\n",
        "\n",
        "        # check to see if the file is an image and should be processed\n",
        "        if ext.endswith(\".csv\"):\n",
        "            # construct the path to the image and yield it\n",
        "            csvPath = os.path.join(rootDir, filename)\n",
        "            csvPaths.append(csvPath)\n",
        "\n",
        "csvPaths"
      ],
      "execution_count": 6,
      "outputs": [
        {
          "output_type": "execute_result",
          "data": {
            "text/plain": [
              "['/content/object-detection-notebooks/dataset2/annotations/airplane.csv',\n",
              " '/content/object-detection-notebooks/dataset2/annotations/motorcycle.csv',\n",
              " '/content/object-detection-notebooks/dataset2/annotations/face.csv']"
            ]
          },
          "metadata": {
            "tags": []
          },
          "execution_count": 6
        }
      ]
    },
    {
      "cell_type": "code",
      "metadata": {
        "id": "VU_QMMW8AXdj"
      },
      "source": [
        "for csvPath in csvPaths:\n",
        "    # load the contents of the current CSV annotations file\n",
        "    rows = open(csvPath).read().strip().split(\"\\n\")\n",
        "\n",
        "    # loop over the rows\n",
        "    for row in rows:\n",
        "        # break the row into the filename, bounding box coordinates,\n",
        "        # and class label\n",
        "        row = row.split(\",\")\n",
        "        (filename, startX, startY, endX, endY, label) = row\n",
        "\n",
        "        # derive the path to the input image, load the image (in\n",
        "        # OpenCV format), and grab its dimensions\n",
        "        imagePath = os.path.sep.join([IMAGES_PATH, label, filename])\n",
        "        image = cv2.imread(imagePath)\n",
        "        (h, w) = image.shape[:2]\n",
        "\n",
        "        # scale the bounding box coordinates relative to the spatial\n",
        "        # dimensions of the input image\n",
        "        startX = float(startX) / w\n",
        "        startY = float(startY) / h\n",
        "        endX = float(endX) / w\n",
        "        endY = float(endY) / h\n",
        "\n",
        "        # load the image and preprocess it\n",
        "        image = load_img(imagePath, target_size=(224, 224))\n",
        "        image = img_to_array(image)\n",
        "\n",
        "        # update our list of data, class labels, bounding boxes, and\n",
        "        # image paths\n",
        "        data.append(image)\n",
        "        labels.append(label)\n",
        "        bboxes.append((startX, startY, endX, endY))\n",
        "        imagePaths.append(imagePath)"
      ],
      "execution_count": 7,
      "outputs": []
    },
    {
      "cell_type": "code",
      "metadata": {
        "id": "emH1nqLZgCpU"
      },
      "source": [
        "data = np.array(data, dtype=\"float32\") / 255.0\n",
        "labels = np.array(labels)\n",
        "bboxes = np.array(bboxes, dtype=\"float32\")\n",
        "imagePaths = np.array(imagePaths)"
      ],
      "execution_count": 18,
      "outputs": []
    },
    {
      "cell_type": "code",
      "metadata": {
        "id": "jP7s1pPNCvib"
      },
      "source": [
        "lb = LabelBinarizer()\n",
        "labels = lb.fit_transform(labels)"
      ],
      "execution_count": 19,
      "outputs": []
    },
    {
      "cell_type": "code",
      "metadata": {
        "colab": {
          "base_uri": "https://localhost:8080/"
        },
        "id": "Wv852-lOC-PY",
        "outputId": "9f805edf-3edd-4e8d-e581-65b78c0ead0a"
      },
      "source": [
        "print(labels)"
      ],
      "execution_count": 20,
      "outputs": [
        {
          "output_type": "stream",
          "text": [
            "[[1 0 0]\n",
            " [1 0 0]\n",
            " [1 0 0]\n",
            " ...\n",
            " [0 1 0]\n",
            " [0 1 0]\n",
            " [0 1 0]]\n"
          ],
          "name": "stdout"
        }
      ]
    },
    {
      "cell_type": "code",
      "metadata": {
        "id": "uma_hGskDAAw"
      },
      "source": [
        "split = train_test_split(data, labels, bboxes, imagePaths, test_size=0.20, random_state=42)\n",
        "\n",
        "(trainImages, testImages) = split[:2]\n",
        "(trainLabels, testLabels) = split[2:4]\n",
        "(trainBBoxes, testBBoxes) = split[4:6]\n",
        "(trainPaths, testPaths) = split[6:]"
      ],
      "execution_count": 21,
      "outputs": []
    },
    {
      "cell_type": "code",
      "metadata": {
        "id": "9ifv0DK2DFb7"
      },
      "source": [
        "vgg = VGG16(weights=\"imagenet\", include_top=False, input_tensor=Input(shape=(224, 224, 3)))"
      ],
      "execution_count": 22,
      "outputs": []
    },
    {
      "cell_type": "code",
      "metadata": {
        "id": "z4igat2dDHkY"
      },
      "source": [
        "vgg.trainable = False"
      ],
      "execution_count": 23,
      "outputs": []
    },
    {
      "cell_type": "code",
      "metadata": {
        "colab": {
          "base_uri": "https://localhost:8080/"
        },
        "id": "m1JiSMypegYG",
        "outputId": "463a1689-7b47-4b3f-cec9-f9c067dcec27"
      },
      "source": [
        "len(lb.classes_)"
      ],
      "execution_count": 12,
      "outputs": [
        {
          "output_type": "execute_result",
          "data": {
            "text/plain": [
              "3"
            ]
          },
          "metadata": {
            "tags": []
          },
          "execution_count": 12
        }
      ]
    },
    {
      "cell_type": "code",
      "metadata": {
        "id": "kFuH5-kDDKmR"
      },
      "source": [
        "flatten = vgg.output\n",
        "flatten = Flatten()(flatten)\n",
        "\n",
        "# construct a fully-connected layer header to output the predicted\n",
        "# bounding box coordinates\n",
        "bboxHead = Dense(128, activation=\"relu\")(flatten)\n",
        "bboxHead = Dense(64, activation=\"relu\")(bboxHead)\n",
        "bboxHead = Dense(32, activation=\"relu\")(bboxHead)\n",
        "bboxHead = Dense(4, activation=\"sigmoid\", name=\"bounding_box\")(bboxHead)\n",
        "\n",
        "# construct a second fully-connected layer head, this one to predict\n",
        "# the class label\n",
        "softmaxHead = Dense(512, activation=\"relu\")(flatten)\n",
        "softmaxHead = Dropout(0.5)(softmaxHead)\n",
        "softmaxHead = Dense(512, activation=\"relu\")(softmaxHead)\n",
        "softmaxHead = Dropout(0.5)(softmaxHead)\n",
        "softmaxHead = Dense(len(lb.classes_), activation=\"softmax\", name=\"class_label\")(softmaxHead)\n",
        "\n",
        "# put together our model which accept an input image and then output\n",
        "# bounding box coordinates and a class label\n",
        "model = Model(inputs=vgg.input, outputs=(bboxHead, softmaxHead))"
      ],
      "execution_count": 24,
      "outputs": []
    },
    {
      "cell_type": "code",
      "metadata": {
        "id": "lbbxGl14DbPW"
      },
      "source": [
        "losses = {\n",
        "    \"class_label\": \"categorical_crossentropy\",\n",
        "    \"bounding_box\": \"mean_squared_error\",\n",
        "}\n",
        "\n",
        "lossWeights = {\n",
        "    \"class_label\": 1.0,\n",
        "    \"bounding_box\": 1.0\n",
        "}"
      ],
      "execution_count": 25,
      "outputs": []
    },
    {
      "cell_type": "code",
      "metadata": {
        "colab": {
          "base_uri": "https://localhost:8080/"
        },
        "id": "BX-62ZVCEWt6",
        "outputId": "b18e4e88-6712-4040-d2df-0ff1df8a4433"
      },
      "source": [
        "opt = Adam(lr=1e-4)\n",
        "model.compile(loss=losses, optimizer=opt, metrics=[\"accuracy\"], loss_weights=lossWeights)"
      ],
      "execution_count": 26,
      "outputs": [
        {
          "output_type": "stream",
          "text": [
            "/usr/local/lib/python3.7/dist-packages/tensorflow/python/keras/optimizer_v2/optimizer_v2.py:375: UserWarning: The `lr` argument is deprecated, use `learning_rate` instead.\n",
            "  \"The `lr` argument is deprecated, use `learning_rate` instead.\")\n"
          ],
          "name": "stderr"
        }
      ]
    },
    {
      "cell_type": "code",
      "metadata": {
        "id": "GSdILuzhEbmQ"
      },
      "source": [
        "trainTargets = {\n",
        "    \"class_label\": trainLabels,\n",
        "    \"bounding_box\": trainBBoxes\n",
        "}\n",
        "\n",
        "testTargets = {\n",
        "    \"class_label\": testLabels,\n",
        "    \"bounding_box\": testBBoxes\n",
        "}\n"
      ],
      "execution_count": 27,
      "outputs": []
    },
    {
      "cell_type": "code",
      "metadata": {
        "colab": {
          "base_uri": "https://localhost:8080/"
        },
        "id": "nITejfcnEo4r",
        "outputId": "b35894e8-5b84-4786-d363-f5634b59e395"
      },
      "source": [
        "history= model.fit(\n",
        "    trainImages, trainTargets,\n",
        "    validation_data=(testImages, testTargets),\n",
        "    batch_size=32,\n",
        "    epochs=20,\n",
        "    verbose=1)"
      ],
      "execution_count": 28,
      "outputs": [
        {
          "output_type": "stream",
          "text": [
            "Epoch 1/20\n",
            "51/51 [==============================] - 55s 364ms/step - loss: 0.1971 - bounding_box_loss: 0.0127 - class_label_loss: 0.1844 - bounding_box_accuracy: 0.6310 - class_label_accuracy: 0.9287 - val_loss: 0.0026 - val_bounding_box_loss: 0.0016 - val_class_label_loss: 0.0010 - val_bounding_box_accuracy: 0.8084 - val_class_label_accuracy: 1.0000\n",
            "Epoch 2/20\n",
            "51/51 [==============================] - 8s 167ms/step - loss: 0.0125 - bounding_box_loss: 0.0013 - class_label_loss: 0.0112 - bounding_box_accuracy: 0.8296 - class_label_accuracy: 0.9982 - val_loss: 0.0025 - val_bounding_box_loss: 0.0012 - val_class_label_loss: 0.0013 - val_bounding_box_accuracy: 0.8280 - val_class_label_accuracy: 1.0000\n",
            "Epoch 3/20\n",
            "51/51 [==============================] - 9s 169ms/step - loss: 0.0083 - bounding_box_loss: 0.0010 - class_label_loss: 0.0073 - bounding_box_accuracy: 0.8733 - class_label_accuracy: 0.9982 - val_loss: 0.0013 - val_bounding_box_loss: 0.0011 - val_class_label_loss: 1.9235e-04 - val_bounding_box_accuracy: 0.8550 - val_class_label_accuracy: 1.0000\n",
            "Epoch 4/20\n",
            "51/51 [==============================] - 9s 170ms/step - loss: 0.0033 - bounding_box_loss: 8.6232e-04 - class_label_loss: 0.0024 - bounding_box_accuracy: 0.8856 - class_label_accuracy: 1.0000 - val_loss: 0.0011 - val_bounding_box_loss: 9.5009e-04 - val_class_label_loss: 1.4007e-04 - val_bounding_box_accuracy: 0.8501 - val_class_label_accuracy: 1.0000\n",
            "Epoch 5/20\n",
            "51/51 [==============================] - 9s 170ms/step - loss: 0.0030 - bounding_box_loss: 7.3201e-04 - class_label_loss: 0.0023 - bounding_box_accuracy: 0.8899 - class_label_accuracy: 1.0000 - val_loss: 9.7691e-04 - val_bounding_box_loss: 8.9099e-04 - val_class_label_loss: 8.5918e-05 - val_bounding_box_accuracy: 0.8698 - val_class_label_accuracy: 1.0000\n",
            "Epoch 6/20\n",
            "51/51 [==============================] - 9s 169ms/step - loss: 0.0019 - bounding_box_loss: 6.4283e-04 - class_label_loss: 0.0013 - bounding_box_accuracy: 0.8954 - class_label_accuracy: 1.0000 - val_loss: 9.3781e-04 - val_bounding_box_loss: 8.3730e-04 - val_class_label_loss: 1.0051e-04 - val_bounding_box_accuracy: 0.8624 - val_class_label_accuracy: 1.0000\n",
            "Epoch 7/20\n",
            "51/51 [==============================] - 9s 170ms/step - loss: 0.0013 - bounding_box_loss: 5.6696e-04 - class_label_loss: 6.9007e-04 - bounding_box_accuracy: 0.8985 - class_label_accuracy: 1.0000 - val_loss: 8.8113e-04 - val_bounding_box_loss: 7.9704e-04 - val_class_label_loss: 8.4090e-05 - val_bounding_box_accuracy: 0.8673 - val_class_label_accuracy: 1.0000\n",
            "Epoch 8/20\n",
            "51/51 [==============================] - 9s 171ms/step - loss: 0.0016 - bounding_box_loss: 5.0393e-04 - class_label_loss: 0.0011 - bounding_box_accuracy: 0.8948 - class_label_accuracy: 1.0000 - val_loss: 9.0195e-04 - val_bounding_box_loss: 7.6719e-04 - val_class_label_loss: 1.3476e-04 - val_bounding_box_accuracy: 0.8600 - val_class_label_accuracy: 1.0000\n",
            "Epoch 9/20\n",
            "51/51 [==============================] - 9s 172ms/step - loss: 0.0014 - bounding_box_loss: 4.4715e-04 - class_label_loss: 9.6695e-04 - bounding_box_accuracy: 0.9071 - class_label_accuracy: 1.0000 - val_loss: 7.9237e-04 - val_bounding_box_loss: 7.5257e-04 - val_class_label_loss: 3.9797e-05 - val_bounding_box_accuracy: 0.8649 - val_class_label_accuracy: 1.0000\n",
            "Epoch 10/20\n",
            "51/51 [==============================] - 9s 173ms/step - loss: 0.0013 - bounding_box_loss: 3.9888e-04 - class_label_loss: 9.0376e-04 - bounding_box_accuracy: 0.9022 - class_label_accuracy: 1.0000 - val_loss: 8.8339e-04 - val_bounding_box_loss: 7.4366e-04 - val_class_label_loss: 1.3973e-04 - val_bounding_box_accuracy: 0.8771 - val_class_label_accuracy: 1.0000\n",
            "Epoch 11/20\n",
            "51/51 [==============================] - 9s 174ms/step - loss: 6.3634e-04 - bounding_box_loss: 3.5802e-04 - class_label_loss: 2.7832e-04 - bounding_box_accuracy: 0.9176 - class_label_accuracy: 1.0000 - val_loss: 8.1385e-04 - val_bounding_box_loss: 7.1674e-04 - val_class_label_loss: 9.7111e-05 - val_bounding_box_accuracy: 0.8845 - val_class_label_accuracy: 1.0000\n",
            "Epoch 12/20\n",
            "51/51 [==============================] - 9s 176ms/step - loss: 8.2821e-04 - bounding_box_loss: 3.2106e-04 - class_label_loss: 5.0715e-04 - bounding_box_accuracy: 0.9231 - class_label_accuracy: 1.0000 - val_loss: 7.4002e-04 - val_bounding_box_loss: 7.1045e-04 - val_class_label_loss: 2.9563e-05 - val_bounding_box_accuracy: 0.8771 - val_class_label_accuracy: 1.0000\n",
            "Epoch 13/20\n",
            "51/51 [==============================] - 9s 179ms/step - loss: 8.0075e-04 - bounding_box_loss: 2.8832e-04 - class_label_loss: 5.1243e-04 - bounding_box_accuracy: 0.9244 - class_label_accuracy: 1.0000 - val_loss: 7.2125e-04 - val_bounding_box_loss: 6.9599e-04 - val_class_label_loss: 2.5259e-05 - val_bounding_box_accuracy: 0.8821 - val_class_label_accuracy: 1.0000\n",
            "Epoch 14/20\n",
            "51/51 [==============================] - 9s 181ms/step - loss: 8.0307e-04 - bounding_box_loss: 2.6697e-04 - class_label_loss: 5.3611e-04 - bounding_box_accuracy: 0.9299 - class_label_accuracy: 1.0000 - val_loss: 7.2148e-04 - val_bounding_box_loss: 6.7697e-04 - val_class_label_loss: 4.4513e-05 - val_bounding_box_accuracy: 0.8796 - val_class_label_accuracy: 1.0000\n",
            "Epoch 15/20\n",
            "51/51 [==============================] - 9s 182ms/step - loss: 5.1371e-04 - bounding_box_loss: 2.4127e-04 - class_label_loss: 2.7244e-04 - bounding_box_accuracy: 0.9250 - class_label_accuracy: 1.0000 - val_loss: 8.5954e-04 - val_bounding_box_loss: 6.7877e-04 - val_class_label_loss: 1.8077e-04 - val_bounding_box_accuracy: 0.8870 - val_class_label_accuracy: 1.0000\n",
            "Epoch 16/20\n",
            "51/51 [==============================] - 9s 180ms/step - loss: 4.8450e-04 - bounding_box_loss: 2.1618e-04 - class_label_loss: 2.6832e-04 - bounding_box_accuracy: 0.9348 - class_label_accuracy: 1.0000 - val_loss: 7.3625e-04 - val_bounding_box_loss: 6.9460e-04 - val_class_label_loss: 4.1659e-05 - val_bounding_box_accuracy: 0.8722 - val_class_label_accuracy: 1.0000\n",
            "Epoch 17/20\n",
            "51/51 [==============================] - 9s 179ms/step - loss: 3.9925e-04 - bounding_box_loss: 1.8755e-04 - class_label_loss: 2.1170e-04 - bounding_box_accuracy: 0.9434 - class_label_accuracy: 1.0000 - val_loss: 7.2396e-04 - val_bounding_box_loss: 6.7588e-04 - val_class_label_loss: 4.8086e-05 - val_bounding_box_accuracy: 0.8894 - val_class_label_accuracy: 1.0000\n",
            "Epoch 18/20\n",
            "51/51 [==============================] - 9s 179ms/step - loss: 3.4573e-04 - bounding_box_loss: 1.6557e-04 - class_label_loss: 1.8016e-04 - bounding_box_accuracy: 0.9446 - class_label_accuracy: 1.0000 - val_loss: 7.0018e-04 - val_bounding_box_loss: 6.8000e-04 - val_class_label_loss: 2.0179e-05 - val_bounding_box_accuracy: 0.8919 - val_class_label_accuracy: 1.0000\n",
            "Epoch 19/20\n",
            "51/51 [==============================] - 9s 178ms/step - loss: 3.3591e-04 - bounding_box_loss: 1.5170e-04 - class_label_loss: 1.8422e-04 - bounding_box_accuracy: 0.9422 - class_label_accuracy: 1.0000 - val_loss: 6.8115e-04 - val_bounding_box_loss: 6.6744e-04 - val_class_label_loss: 1.3709e-05 - val_bounding_box_accuracy: 0.8919 - val_class_label_accuracy: 1.0000\n",
            "Epoch 20/20\n",
            "51/51 [==============================] - 9s 178ms/step - loss: 2.1046e-04 - bounding_box_loss: 1.3787e-04 - class_label_loss: 7.2588e-05 - bounding_box_accuracy: 0.9440 - class_label_accuracy: 1.0000 - val_loss: 6.8045e-04 - val_bounding_box_loss: 6.6276e-04 - val_class_label_loss: 1.7696e-05 - val_bounding_box_accuracy: 0.8771 - val_class_label_accuracy: 1.0000\n"
          ],
          "name": "stdout"
        }
      ]
    },
    {
      "cell_type": "code",
      "metadata": {
        "id": "akicrEivEwIH",
        "colab": {
          "base_uri": "https://localhost:8080/",
          "height": 367
        },
        "outputId": "8cc6ae9c-8ce7-43fe-f36c-d92df93ae8d8"
      },
      "source": [
        "# summarize history for loss\n",
        "fig, axs = plt.subplots(1,figsize=(15,5)) \n",
        "axs.plot(history.history['loss']) \n",
        "axs.plot(history.history['val_loss']) \n",
        "axs.set_title('Model Total Loss')\n",
        "axs.set_ylabel('Loss') \n",
        "axs.set_xlabel('Epoch')\n",
        "axs.legend(['train', 'validate'], loc='upper left')"
      ],
      "execution_count": 34,
      "outputs": [
        {
          "output_type": "execute_result",
          "data": {
            "text/plain": [
              "<matplotlib.legend.Legend at 0x7f7ff442df10>"
            ]
          },
          "metadata": {
            "tags": []
          },
          "execution_count": 34
        },
        {
          "output_type": "display_data",
          "data": {
            "image/png": "[encoded data removed]",
            "text/plain": [
              "<Figure size 1080x360 with 1 Axes>"
            ]
          },
          "metadata": {
            "tags": [],
            "needs_background": "light"
          }
        }
      ]
    },
    {
      "cell_type": "code",
      "metadata": {
        "id": "aZUJIzbOheTM"
      },
      "source": [
        ""
      ],
      "execution_count": null,
      "outputs": []
    }
  ]
}